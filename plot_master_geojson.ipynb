{
 "cells": [
  {
   "cell_type": "code",
   "execution_count": null,
   "metadata": {},
   "outputs": [],
   "source": [
    "import os\n",
    "import numpy as np\n",
    "import pandas as pd\n",
    "#os.getcwd()\n",
    "import folium\n",
    "from folium import plugins\n",
    "import geopandas\n",
    "import geojson\n",
    "import matplotlib.cm as cm\n",
    "import webbrowser\n",
    "import glob"
   ]
  },
  {
   "cell_type": "code",
   "execution_count": null,
   "metadata": {},
   "outputs": [],
   "source": [
    "dir_gpx_original  = 'data/gpx_original' \n",
    "dir_gpx_processed = 'data/gpx_processed' \n",
    "dir_geojson       = 'data/geojson'\n",
    "\n",
    "dir_work = '/home/craigmatthewsmith/gps_tracks'\n",
    "os.chdir(dir_work)\n",
    "#os.getcwd()\n",
    "\n",
    "#gpx_file_temp = os.path.join(dir_work, 'data_input_gpx/Afternoon_Run55.gpx')\n",
    "#print(os.path.isfile(gpx_file_temp))\n"
   ]
  },
  {
   "cell_type": "code",
   "execution_count": null,
   "metadata": {},
   "outputs": [],
   "source": [
    "# functions\n",
    "def rgb2hex(c):\n",
    "    hexc = '#%02x%02x%02x'%(int(c[0]*255), int(c[1]*255), int(c[2]*255))\n",
    "    return(hexc)\n"
   ]
  },
  {
   "cell_type": "code",
   "execution_count": null,
   "metadata": {},
   "outputs": [],
   "source": [
    "\n",
    "use_RDP  = True\n",
    "epsilon  = 1.0 # rdp thinning \n",
    "#dist_min_aggregate_points = 1.0 \n",
    "dist_min_aggregate_points = 3.0 \n",
    "#dist_min_aggregate_points = 10.0 \n",
    "\n",
    "#  1.0, reduced points from 75752 to 65536, 2.5 M master.geojson file size \n",
    "# 10.0, reduced points from 75752 to 19330, 2.5 M master.geojson file size\n",
    "\n",
    "dist_max_between_points_to_make_line = 100.0 # dont plot lines this far away\n",
    "\n",
    "# thin2 deprecated only\n",
    "dist_min_adjacent_points_to_line = 30.0 \n"
   ]
  },
  {
   "cell_type": "code",
   "execution_count": null,
   "metadata": {},
   "outputs": [],
   "source": [
    "#geojson_file = os.path.join(dir_work, 'master_thin.geojson')\n",
    "geojson_file = 'master_thin_min_'+str(int(dist_min_aggregate_points))+'_max_'+str(int(dist_max_between_points_to_make_line))+'.geojson'\n",
    "\n",
    "print(os.path.isfile(geojson_file))\n",
    "\n",
    "# read geojson file\n",
    "with open(geojson_file, 'r') as file:\n",
    "    geojson_data = geojson.load(file)\n",
    "\n",
    "features_tracks  = []\n",
    "features_n_times = []\n",
    "\n",
    "for feature in geojson_data['features']:\n",
    "    line = geojson.LineString(feature['geometry']['coordinates'])\n",
    "    n_times = feature['properties']['n_times']\n",
    "    features_tracks.append(geojson.Feature(geometry=line))\n",
    "    features_n_times.append(geojson.Feature(geometry=line, properties={'n_times': n_times}))\n",
    "    \n",
    "geojson_data_track = geojson.FeatureCollection(features_tracks)\n",
    "geojson_data_n_times = geojson.FeatureCollection(features_n_times)\n",
    "    "
   ]
  },
  {
   "cell_type": "code",
   "execution_count": null,
   "metadata": {},
   "outputs": [],
   "source": [
    "cmin_n_times = min(feature['properties']['n_times'] for feature in geojson_data['features'])\n",
    "cmax_n_times = max(feature['properties']['n_times'] for feature in geojson_data['features'])\n",
    "\n",
    "print(cmin_n_times)\n",
    "print(cmax_n_times)\n",
    "\n",
    "# create new GeoJson objects to reduce GeoJSON data sent to Folium map as layer\n",
    "style_track = lambda x: {'color': '#FC4C02', 'weight': 5} # show some color...\n",
    "\n",
    "style_n_times = lambda x: {'color': rgb2hex(cmap((x['properties']['n_times']-cmin_n_times)/(cmax_n_times-cmin_n_times))), 'weight': 5} # cmap needs normalized data\n",
    "tooltip_n_times = folium.features.GeoJsonTooltip(fields=['n_times'], aliases=['n_times'])\n",
    "\n"
   ]
  },
  {
   "cell_type": "code",
   "execution_count": null,
   "metadata": {},
   "outputs": [],
   "source": [
    "# set up Folium map\n",
    "#fmap = folium.Map(tiles = None, prefer_canvas=True, disable_3d=True)\n",
    "#fmap = folium.Map(tiles='Stamen Terrain', prefer_canvas=True, disable_3d=True)\n",
    "fmap = folium.Map(tiles='Stamen Terrain', location=[37.862606, -121.978372], zoom_start=10) \n",
    "folium.TileLayer(tiles = 'OpenStreetMap', name='OpenStreetMap', show=False).add_to(fmap)\n",
    "folium.TileLayer(tiles = 'Stamen Terrain', name='Terrain Map', show=True).add_to(fmap)\n",
    "cmap = cm.get_cmap('jet') # matplotlib colormap\n"
   ]
  },
  {
   "cell_type": "code",
   "execution_count": null,
   "metadata": {},
   "outputs": [],
   "source": [
    "print('appending features to map ')\n",
    "\n",
    "folium.GeoJson(geojson_data_track, style_function=style_track, name='track', show=True, smooth_factor=3.0).add_to(fmap)\n",
    "folium.GeoJson(geojson_data_n_times, style_function=style_n_times, tooltip=tooltip_n_times, name='n_times', show=False, smooth_factor=3.0).add_to(fmap)\n",
    "        \n",
    "fmap"
   ]
  },
  {
   "cell_type": "code",
   "execution_count": null,
   "metadata": {},
   "outputs": [],
   "source": [
    "# add layer control widget\n",
    "folium.LayerControl(collapsed=False).add_to(fmap)\n",
    "\n",
    "# save map to html file\n",
    "fmap.fit_bounds(fmap.get_bounds())\n",
    "\n",
    "#html_file = os.path.join(dir_work, 'heatmap.html')\n",
    "#html_file = 'heatmap_'+str(int(dist_min))+'_max_'+str(int(dist_max))+'.html'\n",
    "html_file = 'heatmap_'+str(int(dist_min_aggregate_points))+'_max_'+str(int(dist_max_between_points_to_make_line))+'.html'\n",
    "\n",
    "\n",
    "geojson_file = 'master_thin_min_'+str(int())+'_max_'+str(int())+'.geojson'\n",
    "\n",
    "\n",
    "if os.path.isfile(html_file):\n",
    "    os.system('rm -f '+html_file)\n",
    "fmap.save(html_file)\n",
    "# open html file in default browser\n",
    "webbrowser.open(html_file, new=2, autoraise=True)\n"
   ]
  },
  {
   "cell_type": "code",
   "execution_count": null,
   "metadata": {},
   "outputs": [],
   "source": []
  },
  {
   "cell_type": "code",
   "execution_count": null,
   "metadata": {},
   "outputs": [],
   "source": []
  }
 ],
 "metadata": {
  "kernelspec": {
   "display_name": "Python [conda env:env_gis] *",
   "language": "python",
   "name": "conda-env-env_gis-py"
  },
  "language_info": {
   "codemirror_mode": {
    "name": "ipython",
    "version": 3
   },
   "file_extension": ".py",
   "mimetype": "text/x-python",
   "name": "python",
   "nbconvert_exporter": "python",
   "pygments_lexer": "ipython3",
   "version": "3.7.6"
  }
 },
 "nbformat": 4,
 "nbformat_minor": 2
}
