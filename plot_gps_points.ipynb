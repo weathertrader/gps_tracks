{
 "cells": [
  {
   "cell_type": "code",
   "execution_count": null,
   "metadata": {},
   "outputs": [],
   "source": [
    "import os\n",
    "import numpy as np\n",
    "import pandas as pd\n",
    "dir_work = '/home/craigmatthewsmith/gps_tracks/gps_tracks'\n",
    "os.chdir(dir_work)\n",
    "#os.getcwd()\n",
    "import folium\n",
    "#import geopandas"
   ]
  },
  {
   "cell_type": "code",
   "execution_count": null,
   "metadata": {},
   "outputs": [],
   "source": [
    "points_file_name = os.path.join(dir_work, 'points.csv')\n",
    "if not os.path.isfile(points_file_name):\n",
    "    print('ERROR - missing file')\n",
    "    \n",
    "points1_df = pd.read_csv(points_file_name,index_col=0)\n",
    "lon_array = np.array(points1_df['lon'])\n",
    "lat_array = np.array(points1_df['lat'])\n"
   ]
  },
  {
   "cell_type": "code",
   "execution_count": null,
   "metadata": {},
   "outputs": [],
   "source": [
    "lon_array"
   ]
  },
  {
   "cell_type": "code",
   "execution_count": null,
   "metadata": {},
   "outputs": [],
   "source": [
    "print (lon_array[0], lat_array[0])"
   ]
  },
  {
   "cell_type": "code",
   "execution_count": null,
   "metadata": {},
   "outputs": [],
   "source": [
    "\n",
    "#m = folium.Map(location=[45.5236, -122.6750])\n",
    "m = folium.Map(\n",
    "    location=[37.862606, -121.978372],\n",
    "    zoom_start=10,\n",
    "    tiles='Stamen Terrain'\n",
    ") # zoom_start 12\n",
    "\n",
    "tooltip = 'Click me!'\n",
    "\n",
    "#lon_array = [-121.7113, -121.6625, -121.5500, -121.5500, -121.5500, -121.5500]\n",
    "#lat_array = [  45.3288,   45.3311,   45.3400,   45.3500,   45.3600,   45.3700]\n",
    "n_points = len(lon_array)\n",
    "\n",
    "\n",
    "    \n",
    "    \n",
    "#folium.Marker([45.3288, -121.6625], popup='<i>Mt. Hood Meadows</i>', tooltip=tooltip).add_to(m)\n",
    "#folium.Marker([45.3311, -121.7113], popup='<b>Timberline Lodge</b>', tooltip=tooltip).add_to(m)\n",
    "\n",
    "#folium.Circle(\n",
    "#    radius=100,\n",
    "#    location=[45.5244, -122.6699],\n",
    "#    popup='The Waterfront',\n",
    "#    color='crimson',\n",
    "#   fill=False,\n",
    "#).add_to(m)\n",
    "\n",
    "\n"
   ]
  },
  {
   "cell_type": "code",
   "execution_count": null,
   "metadata": {},
   "outputs": [],
   "source": [
    "for n in range(0, n_points, 1):\n",
    "    #folium.Marker([lat_array[n], lon_array[n]], popup='<i>temp1</i>', tooltip=tooltip).add_to(m)\n",
    "    #folium.Marker([lat_array[n], lon_array[n]], tooltip=tooltip).add_to(m)\n",
    "    # 100\n",
    "    folium.Circle(\n",
    "        radius=10,\n",
    "        location=[lat_array[n], lon_array[n]],\n",
    "        color='red',\n",
    "        fill=True,\n",
    "    ).add_to(m)\n",
    "    \n"
   ]
  },
  {
   "cell_type": "code",
   "execution_count": null,
   "metadata": {},
   "outputs": [],
   "source": [
    "n_points"
   ]
  },
  {
   "cell_type": "code",
   "execution_count": null,
   "metadata": {
    "scrolled": true
   },
   "outputs": [],
   "source": [
    "m"
   ]
  },
  {
   "cell_type": "code",
   "execution_count": null,
   "metadata": {},
   "outputs": [],
   "source": [
    "m.save(os.path.join(dir_work,'index.html'))"
   ]
  },
  {
   "cell_type": "code",
   "execution_count": null,
   "metadata": {},
   "outputs": [],
   "source": []
  }
 ],
 "metadata": {
  "kernelspec": {
   "display_name": "Python 3",
   "language": "python",
   "name": "python3"
  },
  "language_info": {
   "codemirror_mode": {
    "name": "ipython",
    "version": 3
   },
   "file_extension": ".py",
   "mimetype": "text/x-python",
   "name": "python",
   "nbconvert_exporter": "python",
   "pygments_lexer": "ipython3",
   "version": "3.7.6"
  }
 },
 "nbformat": 4,
 "nbformat_minor": 2
}
