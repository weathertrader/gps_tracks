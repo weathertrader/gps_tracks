{
 "cells": [
  {
   "cell_type": "code",
   "execution_count": null,
   "metadata": {},
   "outputs": [],
   "source": [
    "import os\n",
    "import numpy as np\n",
    "import pandas as pd\n",
    "#os.getcwd()\n",
    "import folium\n",
    "from folium import plugins\n",
    "import geopandas\n",
    "import geojson\n",
    "import matplotlib.cm as cm\n",
    "import webbrowser\n",
    "import glob"
   ]
  },
  {
   "cell_type": "code",
   "execution_count": null,
   "metadata": {},
   "outputs": [],
   "source": [
    "data_input_gpx = 'data_input_gpx' \n",
    "data_processed_gpx = 'data_processed_gpx' \n",
    "data_geojson = 'data_geojson'\n",
    "\n",
    "dir_work = '/home/craigmatthewsmith/gps_tracks'\n",
    "os.chdir(dir_work)\n",
    "#os.getcwd()\n",
    "\n",
    "#os.path.isfile(gpx_file_temp)\n",
    "#use_SI = True"
   ]
  },
  {
   "cell_type": "code",
   "execution_count": null,
   "metadata": {},
   "outputs": [],
   "source": [
    "# functions\n",
    "def rgb2hex(c):\n",
    "    hexc = '#%02x%02x%02x'%(int(c[0]*255), int(c[1]*255), int(c[2]*255))\n",
    "    return(hexc)\n"
   ]
  },
  {
   "cell_type": "code",
   "execution_count": null,
   "metadata": {},
   "outputs": [],
   "source": [
    "geojson_file_list = glob.glob(os.path.join(data_geojson, '*.geojson'))\n",
    "n_files = len(geojson_file_list)\n",
    "print(n_files)                              \n",
    "#print('found %s files' %(n_files))                              \n",
    "#geojson_file = os.path.join(data_geojson, '2020-03-22_15-06.geojson')\n",
    "#os.path.isfile(geojson_file)\n",
    "\n"
   ]
  },
  {
   "cell_type": "code",
   "execution_count": null,
   "metadata": {},
   "outputs": [],
   "source": [
    "\n",
    "# create new GeoJson objects to reduce GeoJSON data sent to Folium map as layer\n",
    "f_track = lambda x: {'color': '#FC4C02', 'weight': 5} # show some color...\n"
   ]
  },
  {
   "cell_type": "code",
   "execution_count": null,
   "metadata": {},
   "outputs": [],
   "source": [
    "# set up Folium map\n",
    "#fmap = folium.Map(tiles = None, prefer_canvas=True, disable_3d=True)\n",
    "\n",
    "#fmap = folium.Map(tiles='Stamen Terrain', prefer_canvas=True, disable_3d=True)\n",
    "fmap = folium.Map(tiles='Stamen Terrain', location=[37.862606, -121.978372], zoom_start=10) \n",
    "folium.TileLayer(tiles = 'OpenStreetMap', name='OpenStreetMap', show=False).add_to(fmap)\n",
    "folium.TileLayer(tiles = 'Stamen Terrain', name='Terrain Map', show=True).add_to(fmap)\n",
    "cmap = cm.get_cmap('jet') # matplotlib colormap\n",
    "\n",
    "\n",
    "\n",
    "\n"
   ]
  },
  {
   "cell_type": "code",
   "execution_count": null,
   "metadata": {
    "scrolled": true
   },
   "outputs": [],
   "source": [
    "fmap"
   ]
  },
  {
   "cell_type": "code",
   "execution_count": null,
   "metadata": {},
   "outputs": [],
   "source": []
  },
  {
   "cell_type": "code",
   "execution_count": null,
   "metadata": {},
   "outputs": [],
   "source": [
    "features_tracks = []\n",
    "features_elevation = []\n",
    "features_speed = []\n",
    "f = 0\n",
    "#for f in range(0, 3, 1):\n",
    "\n",
    "geojson_file = geojson_file_list[f]\n",
    "print('  processing f %s of %s ' %(f, n_files))\n",
    "\n",
    "# read geojson file\n",
    "with open(geojson_file, 'r') as file:\n",
    "    geojson_data = geojson.load(file)\n"
   ]
  },
  {
   "cell_type": "code",
   "execution_count": null,
   "metadata": {},
   "outputs": [],
   "source": [
    "geojson_data['features']"
   ]
  },
  {
   "cell_type": "code",
   "execution_count": null,
   "metadata": {},
   "outputs": [],
   "source": [
    "\n",
    "\n",
    "#geojson_data\n",
    "\n",
    "for feature in geojson_data['features']:\n",
    "    line = geojson.LineString(feature['geometry']['coordinates'])\n",
    "    features_tracks.append(geojson.Feature(geometry=line))\n",
    "\n",
    "cmin_elevation = min(feature['properties']['elevation'] for feature in geojson_data['features'])\n",
    "cmax_elevation = max(feature['properties']['elevation'] for feature in geojson_data['features'])\n",
    "f_elevation = lambda x: {'color': rgb2hex(cmap((x['properties']['elevation']-cmin_elevation)/(cmax_elevation-cmin_elevation))), 'weight': 5} # cmap needs normalized data\n",
    "t_elevation = folium.features.GeoJsonTooltip(fields=['elevation'], aliases=['Elevation (m)'])\n",
    "\n",
    "for feature in geojson_data['features']:\n",
    "    line = geojson.LineString(feature['geometry']['coordinates'])\n",
    "    elevation = feature['properties']['elevation']\n",
    "    features_elevation.append(geojson.Feature(geometry=line, properties={'elevation': elevation}))\n",
    "\n",
    "cmin_speed = min(feature['properties']['speed'] for feature in geojson_data['features'])\n",
    "cmax_speed = max(feature['properties']['speed'] for feature in geojson_data['features'])\n",
    "f_speed = lambda x: {'color': rgb2hex(cmap((x['properties']['speed']-cmin_speed)/(cmax_speed-cmin_speed))), 'weight': 5} # cmap needs normalized data\n",
    "t_speed = folium.features.GeoJsonTooltip(fields=['speed'], aliases=['Speed '])\n",
    "\n",
    "for feature in geojson_data['features']:\n",
    "    line = geojson.LineString(feature['geometry']['coordinates'])\n",
    "    speed = feature['properties']['speed']\n",
    "    features_speed.append(geojson.Feature(geometry=line, properties={'speed': speed}))\n",
    "\n"
   ]
  },
  {
   "cell_type": "code",
   "execution_count": null,
   "metadata": {},
   "outputs": [],
   "source": []
  },
  {
   "cell_type": "code",
   "execution_count": null,
   "metadata": {},
   "outputs": [],
   "source": [
    "\n",
    "features_tracks = []\n",
    "features_elevation = []\n",
    "features_speed = []\n",
    "f = 0\n",
    "#for f in range(0, 3, 1):\n",
    "for f in range(0, n_files, 1):\n",
    "    geojson_file = geojson_file_list[f]\n",
    "    print('  processing f %s of %s ' %(f, n_files))\n",
    "    \n",
    "    # read geojson file\n",
    "    with open(geojson_file, 'r') as file:\n",
    "        geojson_data = geojson.load(file)\n",
    "\n",
    "    #geojson_data\n",
    "\n",
    "    for feature in geojson_data['features']:\n",
    "        line = geojson.LineString(feature['geometry']['coordinates'])\n",
    "        features_tracks.append(geojson.Feature(geometry=line))\n",
    "\n",
    "    cmin_elevation = min(feature['properties']['elevation'] for feature in geojson_data['features'])\n",
    "    cmax_elevation = max(feature['properties']['elevation'] for feature in geojson_data['features'])\n",
    "    f_elevation = lambda x: {'color': rgb2hex(cmap((x['properties']['elevation']-cmin_elevation)/(cmax_elevation-cmin_elevation))), 'weight': 5} # cmap needs normalized data\n",
    "    t_elevation = folium.features.GeoJsonTooltip(fields=['elevation'], aliases=['Elevation (m)'])\n",
    "\n",
    "    for feature in geojson_data['features']:\n",
    "        line = geojson.LineString(feature['geometry']['coordinates'])\n",
    "        elevation = feature['properties']['elevation']\n",
    "        features_elevation.append(geojson.Feature(geometry=line, properties={'elevation': elevation}))\n",
    "\n",
    "    cmin_speed = min(feature['properties']['speed'] for feature in geojson_data['features'])\n",
    "    cmax_speed = max(feature['properties']['speed'] for feature in geojson_data['features'])\n",
    "    f_speed = lambda x: {'color': rgb2hex(cmap((x['properties']['speed']-cmin_speed)/(cmax_speed-cmin_speed))), 'weight': 5} # cmap needs normalized data\n",
    "    t_speed = folium.features.GeoJsonTooltip(fields=['speed'], aliases=['Speed '])\n",
    "\n",
    "    for feature in geojson_data['features']:\n",
    "        line = geojson.LineString(feature['geometry']['coordinates'])\n",
    "        speed = feature['properties']['speed']\n",
    "        features_speed.append(geojson.Feature(geometry=line, properties={'speed': speed}))\n",
    "\n",
    "\n"
   ]
  },
  {
   "cell_type": "code",
   "execution_count": null,
   "metadata": {},
   "outputs": [],
   "source": [
    "print('appending features to map ')\n",
    "\n",
    "geojson_data_elevation = geojson.FeatureCollection(features_elevation)\n",
    "folium.GeoJson(geojson_data_elevation, style_function=f_elevation, tooltip=t_elevation, name='Elevation (m)', show=False, smooth_factor=3.0).add_to(fmap)\n",
    "        \n",
    "geojson_data_speed = geojson.FeatureCollection(features_speed)\n",
    "folium.GeoJson(geojson_data_speed, style_function=f_speed, tooltip=t_speed, name='Speed ', show=False, smooth_factor=3.0).add_to(fmap)\n",
    "\n",
    "geojson_data_track = geojson.FeatureCollection(features_tracks)\n",
    "folium.GeoJson(geojson_data_track, style_function=f_track, name='Track only', show=True, smooth_factor=3.0).add_to(fmap)\n",
    "\n",
    "fmap"
   ]
  },
  {
   "cell_type": "code",
   "execution_count": null,
   "metadata": {},
   "outputs": [],
   "source": [
    "# add layer control widget\n",
    "folium.LayerControl(collapsed=False).add_to(fmap)\n",
    "\n",
    "# save map to html file\n",
    "fmap.fit_bounds(fmap.get_bounds())\n",
    "\n",
    "html_file = os.path.join(dir_work, 'index.html')\n",
    "if os.path.isfile(html_file):\n",
    "    os.system('rm -f '+html_file)\n",
    "fmap.save(html_file)\n",
    "# open html file in default browser\n",
    "webbrowser.open(html_file, new=2, autoraise=True)\n"
   ]
  }
 ],
 "metadata": {
  "kernelspec": {
   "display_name": "Python 3",
   "language": "python",
   "name": "python3"
  },
  "language_info": {
   "codemirror_mode": {
    "name": "ipython",
    "version": 3
   },
   "file_extension": ".py",
   "mimetype": "text/x-python",
   "name": "python",
   "nbconvert_exporter": "python",
   "pygments_lexer": "ipython3",
   "version": "3.7.6"
  }
 },
 "nbformat": 4,
 "nbformat_minor": 2
}
